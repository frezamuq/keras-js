{
 "cells": [
  {
   "cell_type": "markdown",
   "metadata": {
    "deletable": true,
    "editable": true
   },
   "source": [
    "# Simple Convnet - MNIST\n",
    "\n",
    "Slightly modified from mnist_cnn.py in the Keras examples folder:\n",
    "\n",
    "**https://github.com/fchollet/keras/blob/master/examples/mnist_cnn.py**"
   ]
  },
  {
   "cell_type": "code",
   "execution_count": 1,
   "metadata": {
    "collapsed": true,
    "deletable": true,
    "editable": true
   },
   "outputs": [],
   "source": [
    "WEIGHTS_FILEPATH = 'mnist_cnn.hdf5'\n",
    "MODEL_ARCH_FILEPATH = 'mnist_cnn.json'"
   ]
  },
  {
   "cell_type": "code",
   "execution_count": 2,
   "metadata": {
    "collapsed": false,
    "deletable": true,
    "editable": true
   },
   "outputs": [
    {
     "name": "stderr",
     "output_type": "stream",
     "text": [
      "Using TensorFlow backend.\n"
     ]
    }
   ],
   "source": [
    "import numpy as np\n",
    "np.random.seed(1337)  # for reproducibility\n",
    "\n",
    "from keras.datasets import mnist\n",
    "from keras.models import Sequential\n",
    "from keras.layers import Dense, Dropout, Flatten\n",
    "from keras.layers import Conv2D, MaxPooling2D\n",
    "from keras.utils import np_utils\n",
    "from keras.callbacks import EarlyStopping, ModelCheckpoint"
   ]
  },
  {
   "cell_type": "code",
   "execution_count": 3,
   "metadata": {
    "collapsed": false,
    "deletable": true,
    "editable": true
   },
   "outputs": [
    {
     "name": "stdout",
     "output_type": "stream",
     "text": [
      "x_train shape: (60000, 28, 28, 1)\n",
      "60000 train samples\n",
      "10000 test samples\n"
     ]
    }
   ],
   "source": [
    "num_classes = 10\n",
    "\n",
    "# input image dimensions\n",
    "img_rows, img_cols = 28, 28\n",
    "\n",
    "# the data, shuffled and split between train and test sets\n",
    "(x_train, y_train), (x_test, y_test) = mnist.load_data()\n",
    "\n",
    "x_train = x_train.reshape(x_train.shape[0], img_rows, img_cols, 1)\n",
    "x_test = x_test.reshape(x_test.shape[0], img_rows, img_cols, 1)\n",
    "input_shape = (img_rows, img_cols, 1)\n",
    "\n",
    "x_train = x_train.astype('float32')\n",
    "x_test = x_test.astype('float32')\n",
    "x_train /= 255\n",
    "x_test /= 255\n",
    "print('x_train shape:', x_train.shape)\n",
    "print(x_train.shape[0], 'train samples')\n",
    "print(x_test.shape[0], 'test samples')\n",
    "\n",
    "# convert class vectors to binary class matrices\n",
    "y_train = np_utils.to_categorical(y_train, num_classes)\n",
    "y_test = np_utils.to_categorical(y_test, num_classes)"
   ]
  },
  {
   "cell_type": "code",
   "execution_count": 4,
   "metadata": {
    "collapsed": true,
    "deletable": true,
    "editable": true
   },
   "outputs": [],
   "source": [
    "# Sequential Model\n",
    "\n",
    "model = Sequential()\n",
    "model.add(Conv2D(32, (3, 3), input_shape=input_shape, activation='relu'))\n",
    "model.add(Conv2D(32, (3, 3), activation='relu'))\n",
    "model.add(MaxPooling2D(pool_size=(2, 2)))\n",
    "model.add(Dropout(0.25))\n",
    "model.add(Flatten())\n",
    "model.add(Dense(128, activation='relu'))\n",
    "model.add(Dropout(0.5))\n",
    "model.add(Dense(num_classes, activation='softmax'))\n",
    "\n",
    "model.compile(loss='categorical_crossentropy', optimizer='adam', metrics=['accuracy'])"
   ]
  },
  {
   "cell_type": "code",
   "execution_count": 5,
   "metadata": {
    "collapsed": false,
    "deletable": true,
    "editable": true
   },
   "outputs": [
    {
     "name": "stdout",
     "output_type": "stream",
     "text": [
      "Train on 60000 samples, validate on 10000 samples\n",
      "Epoch 1/100\n",
      "Epoch 00000: val_acc improved from -inf to 0.97980, saving model to mnist_cnn.hdf5\n",
      "6s - loss: 0.2857 - acc: 0.9133 - val_loss: 0.0623 - val_acc: 0.9798\n",
      "Epoch 2/100\n",
      "Epoch 00001: val_acc improved from 0.97980 to 0.98810, saving model to mnist_cnn.hdf5\n",
      "4s - loss: 0.0998 - acc: 0.9703 - val_loss: 0.0385 - val_acc: 0.9881\n",
      "Epoch 3/100\n",
      "Epoch 00002: val_acc improved from 0.98810 to 0.98890, saving model to mnist_cnn.hdf5\n",
      "4s - loss: 0.0748 - acc: 0.9772 - val_loss: 0.0352 - val_acc: 0.9889\n",
      "Epoch 4/100\n",
      "Epoch 00003: val_acc improved from 0.98890 to 0.99040, saving model to mnist_cnn.hdf5\n",
      "4s - loss: 0.0614 - acc: 0.9815 - val_loss: 0.0304 - val_acc: 0.9904\n",
      "Epoch 5/100\n",
      "Epoch 00004: val_acc did not improve\n",
      "4s - loss: 0.0536 - acc: 0.9838 - val_loss: 0.0330 - val_acc: 0.9902\n",
      "Epoch 6/100\n",
      "Epoch 00005: val_acc improved from 0.99040 to 0.99080, saving model to mnist_cnn.hdf5\n",
      "4s - loss: 0.0464 - acc: 0.9857 - val_loss: 0.0302 - val_acc: 0.9908\n",
      "Epoch 7/100\n",
      "Epoch 00006: val_acc improved from 0.99080 to 0.99120, saving model to mnist_cnn.hdf5\n",
      "4s - loss: 0.0420 - acc: 0.9872 - val_loss: 0.0287 - val_acc: 0.9912\n",
      "Epoch 8/100\n",
      "Epoch 00007: val_acc did not improve\n",
      "4s - loss: 0.0376 - acc: 0.9876 - val_loss: 0.0299 - val_acc: 0.9911\n",
      "Epoch 9/100\n",
      "Epoch 00008: val_acc improved from 0.99120 to 0.99220, saving model to mnist_cnn.hdf5\n",
      "4s - loss: 0.0345 - acc: 0.9887 - val_loss: 0.0277 - val_acc: 0.9922\n",
      "Epoch 10/100\n",
      "Epoch 00009: val_acc did not improve\n",
      "4s - loss: 0.0310 - acc: 0.9897 - val_loss: 0.0286 - val_acc: 0.9921\n",
      "Epoch 11/100\n",
      "Epoch 00010: val_acc did not improve\n",
      "4s - loss: 0.0317 - acc: 0.9895 - val_loss: 0.0283 - val_acc: 0.9920\n",
      "Epoch 12/100\n",
      "Epoch 00011: val_acc did not improve\n",
      "4s - loss: 0.0296 - acc: 0.9903 - val_loss: 0.0319 - val_acc: 0.9916\n",
      "Epoch 13/100\n",
      "Epoch 00012: val_acc improved from 0.99220 to 0.99260, saving model to mnist_cnn.hdf5\n",
      "4s - loss: 0.0261 - acc: 0.9914 - val_loss: 0.0261 - val_acc: 0.9926\n",
      "Epoch 14/100\n",
      "Epoch 00013: val_acc improved from 0.99260 to 0.99270, saving model to mnist_cnn.hdf5\n",
      "4s - loss: 0.0251 - acc: 0.9911 - val_loss: 0.0275 - val_acc: 0.9927\n",
      "Epoch 15/100\n",
      "Epoch 00014: val_acc improved from 0.99270 to 0.99300, saving model to mnist_cnn.hdf5\n",
      "4s - loss: 0.0227 - acc: 0.9926 - val_loss: 0.0280 - val_acc: 0.9930\n",
      "Epoch 16/100\n",
      "Epoch 00015: val_acc did not improve\n",
      "4s - loss: 0.0238 - acc: 0.9922 - val_loss: 0.0278 - val_acc: 0.9923\n",
      "Epoch 17/100\n",
      "Epoch 00016: val_acc did not improve\n",
      "4s - loss: 0.0223 - acc: 0.9929 - val_loss: 0.0319 - val_acc: 0.9915\n",
      "Epoch 18/100\n",
      "Epoch 00017: val_acc did not improve\n",
      "4s - loss: 0.0197 - acc: 0.9938 - val_loss: 0.0300 - val_acc: 0.9926\n",
      "Epoch 19/100\n",
      "Epoch 00018: val_acc did not improve\n",
      "4s - loss: 0.0189 - acc: 0.9935 - val_loss: 0.0302 - val_acc: 0.9920\n",
      "Epoch 20/100\n",
      "Epoch 00019: val_acc did not improve\n",
      "4s - loss: 0.0203 - acc: 0.9935 - val_loss: 0.0275 - val_acc: 0.9924\n",
      "Epoch 21/100\n",
      "Epoch 00020: val_acc did not improve\n",
      "4s - loss: 0.0173 - acc: 0.9943 - val_loss: 0.0314 - val_acc: 0.9922\n",
      "Epoch 00020: early stopping\n",
      "Test score: 0.0314481013868\n",
      "Test accuracy: 0.9922\n"
     ]
    }
   ],
   "source": [
    "# Model saving callback\n",
    "checkpointer = ModelCheckpoint(filepath=WEIGHTS_FILEPATH, monitor='val_acc', verbose=1, save_best_only=True)\n",
    "\n",
    "# Early stopping\n",
    "early_stopping = EarlyStopping(monitor='val_acc', verbose=1, patience=5)\n",
    "\n",
    "# Train\n",
    "batch_size = 128\n",
    "epochs = 100\n",
    "model.fit(x_train, y_train, batch_size=batch_size, epochs=epochs, verbose=2,\n",
    "          callbacks=[checkpointer, early_stopping], \n",
    "          validation_data=(x_test, y_test))\n",
    "score = model.evaluate(x_test, y_test, verbose=0)\n",
    "print('Test score:', score[0])\n",
    "print('Test accuracy:', score[1])"
   ]
  },
  {
   "cell_type": "code",
   "execution_count": 6,
   "metadata": {
    "collapsed": true,
    "deletable": true,
    "editable": true
   },
   "outputs": [],
   "source": [
    "with open(MODEL_ARCH_FILEPATH, 'w') as f:\n",
    "    f.write(model.to_json())"
   ]
  },
  {
   "cell_type": "code",
   "execution_count": null,
   "metadata": {
    "collapsed": true,
    "deletable": true,
    "editable": true
   },
   "outputs": [],
   "source": []
  }
 ],
 "metadata": {
  "anaconda-cloud": {},
  "kernelspec": {
   "display_name": "Python 3",
   "language": "python",
   "name": "python3"
  },
  "language_info": {
   "codemirror_mode": {
    "name": "ipython",
    "version": 3
   },
   "file_extension": ".py",
   "mimetype": "text/x-python",
   "name": "python",
   "nbconvert_exporter": "python",
   "pygments_lexer": "ipython3",
   "version": "3.5.3"
  }
 },
 "nbformat": 4,
 "nbformat_minor": 1
}
