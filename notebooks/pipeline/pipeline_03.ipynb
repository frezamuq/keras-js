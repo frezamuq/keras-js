{
 "cells": [
  {
   "cell_type": "code",
   "execution_count": 1,
   "metadata": {},
   "outputs": [
    {
     "name": "stderr",
     "output_type": "stream",
     "text": [
      "Using TensorFlow backend.\n"
     ]
    }
   ],
   "source": [
    "import numpy as np\n",
    "import json\n",
    "from keras.models import Model\n",
    "from keras.layers import Input\n",
    "from keras.layers.convolutional import Conv2D\n",
    "from keras.layers.normalization import BatchNormalization\n",
    "from keras import backend as K\n",
    "from collections import OrderedDict"
   ]
  },
  {
   "cell_type": "code",
   "execution_count": 2,
   "metadata": {
    "collapsed": true
   },
   "outputs": [],
   "source": [
    "def format_decimal(arr, places=6):\n",
    "    return [round(x * 10**places) / 10**places for x in arr]"
   ]
  },
  {
   "cell_type": "code",
   "execution_count": 3,
   "metadata": {
    "collapsed": true
   },
   "outputs": [],
   "source": [
    "DATA = OrderedDict()"
   ]
  },
  {
   "cell_type": "markdown",
   "metadata": {},
   "source": [
    "### pipeline 3"
   ]
  },
  {
   "cell_type": "code",
   "execution_count": 4,
   "metadata": {},
   "outputs": [],
   "source": [
    "data_in_shape = (8, 8, 2)\n",
    "\n",
    "conv_0 = Conv2D(4, (3,3), activation='relu', padding='valid', strides=(1,1), data_format='channels_last', use_bias=True)\n",
    "bn_0 = BatchNormalization(epsilon=1e-05, axis=-1, center=True, scale=True)\n",
    "\n",
    "input_layer = Input(shape=data_in_shape)\n",
    "x = conv_0(input_layer)\n",
    "output_layer = bn_0(x)\n",
    "model = Model(inputs=input_layer, outputs=output_layer)\n",
    "\n",
    "np.random.seed(4000)\n",
    "data_in = 2 * np.random.random(data_in_shape) - 1\n",
    "\n",
    "# set weights to random (use seed for reproducibility)\n",
    "weights = []\n",
    "for i, w in enumerate(model.get_weights()):\n",
    "    np.random.seed(4000 + i)\n",
    "    if i == 5:\n",
    "        # std should be positive\n",
    "        weights.append(np.random.random(w.shape))\n",
    "    else:\n",
    "        weights.append(2 * np.random.random(w.shape) - 1)\n",
    "model.set_weights(weights)\n",
    "\n",
    "result = model.predict(np.array([data_in]))\n",
    "data_out_shape = result[0].shape\n",
    "data_in_formatted = format_decimal(data_in.ravel().tolist())\n",
    "data_out_formatted = format_decimal(result[0].ravel().tolist())\n",
    "\n",
    "DATA['pipeline_03'] = {\n",
    "    'input': {'data': data_in_formatted, 'shape': data_in_shape},\n",
    "    'weights': [{'data': format_decimal(w.ravel().tolist()), 'shape': w.shape} for w in weights],\n",
    "    'expected': {'data': data_out_formatted, 'shape': data_out_shape}\n",
    "}"
   ]
  },
  {
   "cell_type": "markdown",
   "metadata": {},
   "source": [
    "### export for Keras.js tests"
   ]
  },
  {
   "cell_type": "code",
   "execution_count": 5,
   "metadata": {
    "collapsed": true
   },
   "outputs": [],
   "source": [
    "import os\n",
    "\n",
    "filename = '../../test/data/pipeline/03.json'\n",
    "if not os.path.exists(os.path.dirname(filename)):\n",
    "    os.makedirs(os.path.dirname(filename))\n",
    "with open(filename, 'w') as f:\n",
    "    json.dump(DATA, f)"
   ]
  },
  {
   "cell_type": "code",
   "execution_count": 6,
   "metadata": {},
   "outputs": [
    {
     "name": "stdout",
     "output_type": "stream",
     "text": [
      "{\"pipeline_03\": {\"input\": {\"data\": [0.317596, 0.688515, -0.688309, -0.48247, 0.387223, -0.718263, 0.281673, -0.106311, 0.576861, -0.083926, 0.631691, 0.92647, 0.579655, -0.024215, -0.805793, -0.842947, -0.955415, 0.656415, 0.44667, 0.633739, 0.701525, 0.917507, -0.185671, -0.105247, 0.303949, -0.07507, -0.662442, 0.747404, 0.794057, 0.708841, 0.661954, 0.774677, 0.661308, 0.866776, -0.127209, -0.43449, 0.499357, 0.267042, -0.892782, 0.015889, -0.723892, -0.23083, -0.911621, -0.082763, -0.876862, 0.194631, 0.465433, 0.467187, -0.71095, -0.07916, -0.192007, 0.170016, -0.208802, -0.700623, -0.949676, -0.965666, 0.883237, -0.651265, 0.897732, 0.923142, -0.535299, 0.268894, -0.493426, -0.570641, -0.785673, 0.872584, 0.632657, -0.570894, 0.481942, 0.089347, 0.2348, 0.67846, -0.788192, 0.033911, 0.768885, -0.526456, 0.596875, -0.256875, 0.797246, 0.628544, -0.036388, 0.193046, -0.159633, -0.103758, -0.502594, 0.909868, 0.597109, -0.83716, 0.107518, 0.96916, -0.936404, 0.25101, -0.257324, -0.488394, -0.974471, -0.899394, -0.566199, 0.096733, 0.303612, 0.566215, -0.143434, -0.612741, 0.142804, 0.611777, -0.92482, -0.436781, 0.670705, 0.383543, 0.080513, -0.183123, -0.064122, -0.251077, 0.957122, 0.825422, -0.029318, -0.951616, -0.127653, -0.580829, -0.094778, 0.690695, 0.263376, -0.293128, 0.416106, 0.446358, 0.437328, -0.258591, 0.564764, -0.933242], \"shape\": [8, 8, 2]}, \"weights\": [{\"data\": [0.317596, 0.688515, -0.688309, -0.48247, 0.387223, -0.718263, 0.281673, -0.106311, 0.576861, -0.083926, 0.631691, 0.92647, 0.579655, -0.024215, -0.805793, -0.842947, -0.955415, 0.656415, 0.44667, 0.633739, 0.701525, 0.917507, -0.185671, -0.105247, 0.303949, -0.07507, -0.662442, 0.747404, 0.794057, 0.708841, 0.661954, 0.774677, 0.661308, 0.866776, -0.127209, -0.43449, 0.499357, 0.267042, -0.892782, 0.015889, -0.723892, -0.23083, -0.911621, -0.082763, -0.876862, 0.194631, 0.465433, 0.467187, -0.71095, -0.07916, -0.192007, 0.170016, -0.208802, -0.700623, -0.949676, -0.965666, 0.883237, -0.651265, 0.897732, 0.923142, -0.535299, 0.268894, -0.493426, -0.570641, -0.785673, 0.872584, 0.632657, -0.570894, 0.481942, 0.089347, 0.2348, 0.67846], \"shape\": [3, 3, 2, 4]}, {\"data\": [-0.332867, 0.650317, 0.995501, -0.458367], \"shape\": [4]}, {\"data\": [-0.018116, 0.65912, 0.769708, 0.313803], \"shape\": [4]}, {\"data\": [0.09181, 0.603458, -0.605956, 0.484425], \"shape\": [4]}, {\"data\": [-0.702767, -0.818005, 0.960855, -0.340243], \"shape\": [4]}, {\"data\": [0.734999, 0.669966, 0.433153, 0.266126], \"shape\": [4]}], \"expected\": {\"data\": [0.076959, 1.999052, -0.569376, 0.691388, 0.041011, 2.204156, 0.410854, 2.398638, 0.076959, 2.666624, -1.729676, 1.093143, 0.062472, 3.103065, -0.125733, 0.774182, 0.076959, 2.016992, -1.729676, 0.763605, 0.066725, 2.651934, -0.86971, 0.691388, 0.070691, 2.134569, 0.165103, 1.167758, 0.026686, 1.262162, -1.695645, 0.691388, 0.076959, 2.636093, 0.751289, 0.691388, 0.024526, 2.2897, 4.822448, 1.453768, 0.076959, 2.106244, 0.489858, 0.691388, 0.076959, 1.262162, -1.729676, 0.691388, 0.056938, 1.406264, 0.469982, 0.691388, 0.033046, 1.567069, 1.877537, 0.930777, 0.076959, 1.262162, -1.729676, 0.691388, 0.076959, 1.277863, -1.729676, 0.691388, 0.042569, 1.717944, -1.101888, 0.691388, 0.068848, 2.618838, 1.434517, 1.886536, 0.076957, 1.274871, 0.60677, 0.691388, 0.076959, 1.336185, -1.729676, 0.691388, 0.076959, 1.797037, 0.552339, 1.518391, 0.076959, 2.480008, 0.459954, 3.025399, 0.076935, 2.604364, -1.729676, 0.691388, 0.073549, 1.262162, -1.729676, 0.691388, 0.076959, 1.262162, 2.670351, 1.471037, 0.064889, 2.35905, -1.729676, 0.691388, 0.048983, 2.230247, 0.188387, 0.691388, 0.076959, 2.111615, -1.729676, 0.691388, 0.061639, 1.411686, 3.249542, 2.522002, 0.074457, 2.918383, 1.11979, 0.691388, 0.052088, 1.578273, -1.729676, 0.691388, 0.076959, 2.076004, 1.223016, 1.607466, 0.063671, 2.42243, 1.229676, 0.691388, 0.070499, 1.541263, -1.729676, 0.691388, 0.076959, 1.475671, -0.898557, 0.691388, 0.076959, 1.262162, 0.296451, 0.691388], \"shape\": [6, 6, 4]}}}\n"
     ]
    }
   ],
   "source": [
    "print(json.dumps(DATA))"
   ]
  },
  {
   "cell_type": "code",
   "execution_count": null,
   "metadata": {
    "collapsed": true
   },
   "outputs": [],
   "source": []
  }
 ],
 "metadata": {
  "anaconda-cloud": {},
  "kernelspec": {
   "display_name": "Python 3",
   "language": "python",
   "name": "python3"
  },
  "language_info": {
   "codemirror_mode": {
    "name": "ipython",
    "version": 3
   },
   "file_extension": ".py",
   "mimetype": "text/x-python",
   "name": "python",
   "nbconvert_exporter": "python",
   "pygments_lexer": "ipython3",
   "version": "3.6.3"
  }
 },
 "nbformat": 4,
 "nbformat_minor": 2
}
