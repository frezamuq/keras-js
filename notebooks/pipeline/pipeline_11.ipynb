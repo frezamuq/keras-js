{
 "cells": [
  {
   "cell_type": "code",
   "execution_count": 1,
   "metadata": {},
   "outputs": [
    {
     "name": "stderr",
     "output_type": "stream",
     "text": [
      "Using TensorFlow backend.\n"
     ]
    }
   ],
   "source": [
    "import numpy as np\n",
    "import json\n",
    "from keras.models import Model\n",
    "from keras.layers import Input\n",
    "from keras.layers.convolutional import Conv2D\n",
    "from keras.layers.pooling import MaxPooling2D, AveragePooling2D\n",
    "from keras.layers.normalization import BatchNormalization\n",
    "from keras import backend as K\n",
    "from collections import OrderedDict"
   ]
  },
  {
   "cell_type": "code",
   "execution_count": 2,
   "metadata": {
    "collapsed": true
   },
   "outputs": [],
   "source": [
    "def format_decimal(arr, places=6):\n",
    "    return [round(x * 10**places) / 10**places for x in arr]"
   ]
  },
  {
   "cell_type": "code",
   "execution_count": 3,
   "metadata": {
    "collapsed": true
   },
   "outputs": [],
   "source": [
    "DATA = OrderedDict()"
   ]
  },
  {
   "cell_type": "markdown",
   "metadata": {},
   "source": [
    "### pipeline 11"
   ]
  },
  {
   "cell_type": "code",
   "execution_count": 4,
   "metadata": {},
   "outputs": [],
   "source": [
    "data_in_shape = (8, 8, 2)\n",
    "\n",
    "conv_0 = Conv2D(4, (3,3), activation='relu', padding='valid', strides=(1,1), data_format='channels_last', use_bias=True)\n",
    "pool_0 = AveragePooling2D(pool_size=(2,2), strides=(1,1), padding='valid', data_format='channels_last')\n",
    "\n",
    "input_layer = Input(shape=data_in_shape)\n",
    "x = conv_0(input_layer)\n",
    "output_layer = pool_0(x)\n",
    "model = Model(inputs=input_layer, outputs=output_layer)\n",
    "\n",
    "np.random.seed(12000)\n",
    "data_in = 2 * np.random.random(data_in_shape) - 1\n",
    "\n",
    "# set weights to random (use seed for reproducibility)\n",
    "weights = []\n",
    "for i, w in enumerate(model.get_weights()):\n",
    "    np.random.seed(12000 + i)\n",
    "    weights.append(2 * np.random.random(w.shape) - 1)\n",
    "model.set_weights(weights)\n",
    "\n",
    "result = model.predict(np.array([data_in]))\n",
    "data_out_shape = result[0].shape\n",
    "data_in_formatted = format_decimal(data_in.ravel().tolist())\n",
    "data_out_formatted = format_decimal(result[0].ravel().tolist())\n",
    "\n",
    "DATA['pipeline_11'] = {\n",
    "    'input': {'data': data_in_formatted, 'shape': data_in_shape},\n",
    "    'weights': [{'data': format_decimal(w.ravel().tolist()), 'shape': w.shape} for w in weights],\n",
    "    'expected': {'data': data_out_formatted, 'shape': data_out_shape}\n",
    "}"
   ]
  },
  {
   "cell_type": "markdown",
   "metadata": {},
   "source": [
    "### export for Keras.js tests"
   ]
  },
  {
   "cell_type": "code",
   "execution_count": 5,
   "metadata": {
    "collapsed": true
   },
   "outputs": [],
   "source": [
    "import os\n",
    "\n",
    "filename = '../../test/data/pipeline/11.json'\n",
    "if not os.path.exists(os.path.dirname(filename)):\n",
    "    os.makedirs(os.path.dirname(filename))\n",
    "with open(filename, 'w') as f:\n",
    "    json.dump(DATA, f)"
   ]
  },
  {
   "cell_type": "code",
   "execution_count": 6,
   "metadata": {},
   "outputs": [
    {
     "name": "stdout",
     "output_type": "stream",
     "text": [
      "{\"pipeline_11\": {\"input\": {\"data\": [-0.193881, -0.190016, -0.097316, -0.203921, 0.521959, -0.833628, -0.417358, -0.432897, 0.4338, -0.207666, -0.767955, -0.134988, 0.812217, -0.789804, -0.403134, -0.706253, -0.360011, -0.519305, -0.558125, -0.956211, -0.794138, -0.998563, -0.609339, -0.940505, 0.859849, 0.067895, -0.537257, 0.591348, -0.396665, 0.896618, 0.229107, 0.61377, -0.938752, 0.654028, 0.142807, -0.334526, 0.906112, 0.159331, 0.871394, 0.193308, 0.034154, 0.488412, -0.215734, 0.769146, 0.586943, -0.750016, 0.68083, 0.91908, -0.474219, 0.874044, -0.715649, 0.838645, 0.749255, -0.291017, -0.797396, -0.729444, 0.61944, 0.636065, 0.832404, 0.007716, -0.08668, -0.663236, -0.656871, -0.081862, 0.033995, 0.203905, 0.903561, 0.093682, -0.031956, -0.617727, 0.371757, 0.88044, 0.524513, 0.656398, -0.118158, -0.593592, -0.815204, -0.116539, -0.30373, 0.233331, -0.764552, 0.741104, -0.733347, -0.641178, -0.528169, 0.721756, -0.208836, 0.919164, -0.949185, -0.739772, 0.483068, 0.535765, 0.428443, -0.404232, 0.581405, -0.805517, -0.584057, -0.771087, -0.524981, -0.314028, -0.900754, -0.27333, -0.010887, -0.787742, -0.117783, 0.575511, 0.51203, 0.300017, -0.096562, -0.913411, -0.455444, -0.555596, 0.679504, 0.858868, 0.558139, 0.958274, -0.698597, 0.936094, -0.331069, 0.854757, 0.041188, -0.504027, -0.759446, -0.394778, -0.160018, 0.028233, -0.237481, 0.511598], \"shape\": [8, 8, 2]}, \"weights\": [{\"data\": [-0.193881, -0.190016, -0.097316, -0.203921, 0.521959, -0.833628, -0.417358, -0.432897, 0.4338, -0.207666, -0.767955, -0.134988, 0.812217, -0.789804, -0.403134, -0.706253, -0.360011, -0.519305, -0.558125, -0.956211, -0.794138, -0.998563, -0.609339, -0.940505, 0.859849, 0.067895, -0.537257, 0.591348, -0.396665, 0.896618, 0.229107, 0.61377, -0.938752, 0.654028, 0.142807, -0.334526, 0.906112, 0.159331, 0.871394, 0.193308, 0.034154, 0.488412, -0.215734, 0.769146, 0.586943, -0.750016, 0.68083, 0.91908, -0.474219, 0.874044, -0.715649, 0.838645, 0.749255, -0.291017, -0.797396, -0.729444, 0.61944, 0.636065, 0.832404, 0.007716, -0.08668, -0.663236, -0.656871, -0.081862, 0.033995, 0.203905, 0.903561, 0.093682, -0.031956, -0.617727, 0.371757, 0.88044], \"shape\": [3, 3, 2, 4]}, {\"data\": [-0.286598, -0.739478, 0.608692, -0.199319], \"shape\": [4]}], \"expected\": {\"data\": [0.069742, 1.220765, 1.824241, 0.748342, 0.069742, 1.205413, 1.621501, 1.178635, 0.301994, 0.379798, 1.548804, 1.495792, 0.842664, 0.134821, 1.246293, 0.691245, 1.082166, 0.371539, 1.313103, 0.849293, 0.273047, 1.387226, 1.404548, 0.748342, 0.244906, 1.278581, 1.154116, 1.254851, 0.477158, 0.375976, 1.199491, 1.285061, 0.4218, 0.343115, 0.723567, 0.321093, 0.119806, 0.343115, 0.0, 0.06556, 0.559694, 0.224759, 0.341495, 0.823486, 0.531553, 0.135287, 0.13688, 1.131896, 0.175164, 0.0, 0.0, 0.308411, 0.220571, 0.208294, 0.270071, 0.0, 0.400481, 0.22538, 0.591052, 0.001398, 0.356389, 0.0, 0.593834, 0.893333, 0.356389, 0.0, 0.929933, 0.823486, 0.170732, 0.0, 0.609699, 0.447332, 0.344267, 0.058389, 0.664717, 0.447332, 0.353444, 0.759457, 0.86008, 0.050826, 0.0, 0.0, 0.456953, 0.069848, 0.378203, 0.0, 0.804575, 0.0, 0.699893, 0.0, 0.66324, 0.447332, 0.32169, 0.347206, 0.49271, 0.447332, 0.0, 1.031187, 0.325073, 0.049428], \"shape\": [5, 5, 4]}}}\n"
     ]
    }
   ],
   "source": [
    "print(json.dumps(DATA))"
   ]
  },
  {
   "cell_type": "code",
   "execution_count": null,
   "metadata": {
    "collapsed": true
   },
   "outputs": [],
   "source": []
  }
 ],
 "metadata": {
  "anaconda-cloud": {},
  "kernelspec": {
   "display_name": "Python 3",
   "language": "python",
   "name": "python3"
  },
  "language_info": {
   "codemirror_mode": {
    "name": "ipython",
    "version": 3
   },
   "file_extension": ".py",
   "mimetype": "text/x-python",
   "name": "python",
   "nbconvert_exporter": "python",
   "pygments_lexer": "ipython3",
   "version": "3.6.3"
  }
 },
 "nbformat": 4,
 "nbformat_minor": 2
}
