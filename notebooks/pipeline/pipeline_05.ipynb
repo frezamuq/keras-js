{
 "cells": [
  {
   "cell_type": "code",
   "execution_count": 1,
   "metadata": {},
   "outputs": [
    {
     "name": "stderr",
     "output_type": "stream",
     "text": [
      "Using TensorFlow backend.\n"
     ]
    }
   ],
   "source": [
    "import numpy as np\n",
    "import json\n",
    "from keras.models import Model\n",
    "from keras.layers import Input\n",
    "from keras.layers.convolutional import Conv2D\n",
    "from keras.layers.pooling import MaxPooling2D, AveragePooling2D\n",
    "from keras.layers.normalization import BatchNormalization\n",
    "from keras import backend as K\n",
    "from collections import OrderedDict"
   ]
  },
  {
   "cell_type": "code",
   "execution_count": 2,
   "metadata": {
    "collapsed": true
   },
   "outputs": [],
   "source": [
    "def format_decimal(arr, places=6):\n",
    "    return [round(x * 10**places) / 10**places for x in arr]"
   ]
  },
  {
   "cell_type": "code",
   "execution_count": 3,
   "metadata": {
    "collapsed": true
   },
   "outputs": [],
   "source": [
    "DATA = OrderedDict()"
   ]
  },
  {
   "cell_type": "markdown",
   "metadata": {},
   "source": [
    "### pipeline 5"
   ]
  },
  {
   "cell_type": "code",
   "execution_count": 4,
   "metadata": {},
   "outputs": [],
   "source": [
    "data_in_shape = (8, 8, 2)\n",
    "\n",
    "conv_0 = Conv2D(4, (3,3), activation='relu', padding='valid', strides=(1,1), data_format='channels_last', use_bias=True)\n",
    "pool_0 = MaxPooling2D(pool_size=(2,2), strides=None, padding='valid', data_format='channels_last')\n",
    "\n",
    "input_layer = Input(shape=data_in_shape)\n",
    "x = conv_0(input_layer)\n",
    "output_layer = pool_0(x)\n",
    "model = Model(inputs=input_layer, outputs=output_layer)\n",
    "\n",
    "np.random.seed(6000)\n",
    "data_in = 2 * np.random.random(data_in_shape) - 1\n",
    "\n",
    "# set weights to random (use seed for reproducibility)\n",
    "weights = []\n",
    "for i, w in enumerate(model.get_weights()):\n",
    "    np.random.seed(6000 + i)\n",
    "    weights.append(2 * np.random.random(w.shape) - 1)\n",
    "model.set_weights(weights)\n",
    "\n",
    "result = model.predict(np.array([data_in]))\n",
    "data_out_shape = result[0].shape\n",
    "data_in_formatted = format_decimal(data_in.ravel().tolist())\n",
    "data_out_formatted = format_decimal(result[0].ravel().tolist())\n",
    "\n",
    "DATA['pipeline_05'] = {\n",
    "    'input': {'data': data_in_formatted, 'shape': data_in_shape},\n",
    "    'weights': [{'data': format_decimal(w.ravel().tolist()), 'shape': w.shape} for w in weights],\n",
    "    'expected': {'data': data_out_formatted, 'shape': data_out_shape}\n",
    "}"
   ]
  },
  {
   "cell_type": "markdown",
   "metadata": {},
   "source": [
    "### export for Keras.js tests"
   ]
  },
  {
   "cell_type": "code",
   "execution_count": 5,
   "metadata": {
    "collapsed": true
   },
   "outputs": [],
   "source": [
    "import os\n",
    "\n",
    "filename = '../../test/data/pipeline/05.json'\n",
    "if not os.path.exists(os.path.dirname(filename)):\n",
    "    os.makedirs(os.path.dirname(filename))\n",
    "with open(filename, 'w') as f:\n",
    "    json.dump(DATA, f)"
   ]
  },
  {
   "cell_type": "code",
   "execution_count": 6,
   "metadata": {},
   "outputs": [
    {
     "name": "stdout",
     "output_type": "stream",
     "text": [
      "{\"pipeline_05\": {\"input\": {\"data\": [-0.337046, -0.76599, 0.43704, -0.590874, 0.523244, 0.08437, -0.46995, -0.1746, -0.787955, 0.479577, 0.35859, -0.194639, -0.042228, 0.439577, 0.330564, 0.176657, 0.032713, 0.965577, -0.145303, -0.428448, -0.989246, -0.657321, 0.964564, 0.539372, 0.031447, 0.174825, -0.019582, 0.356366, 0.039503, 0.291526, -0.869494, 0.479024, -0.113832, -0.671733, -0.276457, -0.562081, -0.38047, -0.894364, 0.767763, 0.607511, 0.083609, 0.202987, -0.654666, 0.054315, 0.290928, 0.742149, 0.557948, -0.011064, 0.056474, -0.440133, 0.533127, 0.757812, 0.911539, 0.940052, -0.177892, -0.017994, -0.280084, 0.527801, -0.047258, 0.605181, 0.609485, 0.078785, -0.768712, -0.06945, 0.570796, -0.518626, 0.855417, 0.330638, 0.613, 0.614581, -0.946572, -0.100723, -0.208673, 0.672064, -0.709129, -0.370401, -0.194798, -0.272388, 0.408158, 0.466825, 0.143578, 0.709094, 0.72072, -0.345373, 0.949003, 0.781196, -0.057882, 0.557938, -0.58276, -0.940891, -0.999619, -0.613315, 0.317712, -0.972252, 0.554714, 0.29871, 0.096462, 0.189454, -0.902856, -0.136996, 0.918331, 0.39441, 0.339639, -0.784663, 0.602098, -0.94062, 0.180108, 0.928582, -0.527992, 0.415096, 0.543624, 0.589281, 0.301243, -0.251047, 0.258499, -0.407509, 0.03137, 0.472673, 0.964523, 0.786493, 0.414292, -0.850044, 0.177502, -0.475431, 0.044138, 0.080891, -0.25058, 0.171386], \"shape\": [8, 8, 2]}, \"weights\": [{\"data\": [-0.337046, -0.76599, 0.43704, -0.590874, 0.523244, 0.08437, -0.46995, -0.1746, -0.787955, 0.479577, 0.35859, -0.194639, -0.042228, 0.439577, 0.330564, 0.176657, 0.032713, 0.965577, -0.145303, -0.428448, -0.989246, -0.657321, 0.964564, 0.539372, 0.031447, 0.174825, -0.019582, 0.356366, 0.039503, 0.291526, -0.869494, 0.479024, -0.113832, -0.671733, -0.276457, -0.562081, -0.38047, -0.894364, 0.767763, 0.607511, 0.083609, 0.202987, -0.654666, 0.054315, 0.290928, 0.742149, 0.557948, -0.011064, 0.056474, -0.440133, 0.533127, 0.757812, 0.911539, 0.940052, -0.177892, -0.017994, -0.280084, 0.527801, -0.047258, 0.605181, 0.609485, 0.078785, -0.768712, -0.06945, 0.570796, -0.518626, 0.855417, 0.330638, 0.613, 0.614581, -0.946572, -0.100723], \"shape\": [3, 3, 2, 4]}, {\"data\": [0.176208, -0.914076, -0.257569, -0.540197], \"shape\": [4]}], \"expected\": {\"data\": [2.355193, 1.538621, 0.879973, 0.0, 1.488768, 0.813377, 1.006813, 0.818534, 1.518673, 0.519673, 0.527898, 0.263857, 1.210094, 0.459892, 1.842821, 0.90611, 0.550748, 1.109968, 1.621306, 0.691553, 0.199716, 0.0, 0.416942, 0.0, 0.0, 0.922625, 1.626775, 0.039826, 2.061968, 0.117856, 2.042403, 1.913966, 2.278328, 0.736712, 1.121583, 0.992395], \"shape\": [3, 3, 4]}}}\n"
     ]
    }
   ],
   "source": [
    "print(json.dumps(DATA))"
   ]
  },
  {
   "cell_type": "code",
   "execution_count": null,
   "metadata": {
    "collapsed": true
   },
   "outputs": [],
   "source": []
  }
 ],
 "metadata": {
  "anaconda-cloud": {},
  "kernelspec": {
   "display_name": "Python 3",
   "language": "python",
   "name": "python3"
  },
  "language_info": {
   "codemirror_mode": {
    "name": "ipython",
    "version": 3
   },
   "file_extension": ".py",
   "mimetype": "text/x-python",
   "name": "python",
   "nbconvert_exporter": "python",
   "pygments_lexer": "ipython3",
   "version": "3.6.3"
  }
 },
 "nbformat": 4,
 "nbformat_minor": 2
}
