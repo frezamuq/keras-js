{
 "cells": [
  {
   "cell_type": "code",
   "execution_count": 1,
   "metadata": {
    "collapsed": false
   },
   "outputs": [
    {
     "name": "stderr",
     "output_type": "stream",
     "text": [
      "Using TensorFlow backend.\n"
     ]
    }
   ],
   "source": [
    "import numpy as np\n",
    "from keras.models import Model\n",
    "from keras.layers import Input\n",
    "from keras.layers.advanced_activations import LeakyReLU, PReLU, ELU, ParametricSoftplus, ThresholdedReLU, SReLU\n",
    "from keras import backend as K"
   ]
  },
  {
   "cell_type": "code",
   "execution_count": 2,
   "metadata": {
    "collapsed": true
   },
   "outputs": [],
   "source": [
    "def format_decimal(arr, places=6):\n",
    "    return [round(x * 10**places) / 10**places for x in arr]"
   ]
  },
  {
   "cell_type": "markdown",
   "metadata": {},
   "source": [
    "### LeakyReLU"
   ]
  },
  {
   "cell_type": "markdown",
   "metadata": {},
   "source": [
    "**[advanced_activations.LeakyReLU.0] alpha=0.4**"
   ]
  },
  {
   "cell_type": "code",
   "execution_count": 3,
   "metadata": {
    "collapsed": false
   },
   "outputs": [
    {
     "name": "stdout",
     "output_type": "stream",
     "text": [
      "in: [0, 0.2, -0.5, -0.1, 1, 2]\n",
      "in shape: (6,)\n",
      "out shape: (6,)\n",
      "out: [0.0, 0.2, -0.2, -0.04, 1.0, 2.0]\n"
     ]
    }
   ],
   "source": [
    "layer_0 = Input(shape=(6,))\n",
    "layer_1 = LeakyReLU(alpha=0.4)(layer_0)\n",
    "model = Model(input=layer_0, output=layer_1)\n",
    "\n",
    "data_in = [0, 0.2, -0.5, -0.1, 1, 2]\n",
    "data_in_shape = (6,)\n",
    "print('in:', data_in)\n",
    "print('in shape:', data_in_shape)\n",
    "arr_in = np.array(data_in, dtype='float32').reshape(data_in_shape)\n",
    "result = model.predict(np.array([arr_in]))\n",
    "arr_out = result[0]\n",
    "print('out shape:', arr_out.shape)\n",
    "data_out = format_decimal(arr_out.ravel().tolist())\n",
    "print('out:', data_out)"
   ]
  },
  {
   "cell_type": "markdown",
   "metadata": {},
   "source": [
    "### PReLU"
   ]
  },
  {
   "cell_type": "markdown",
   "metadata": {},
   "source": [
    "**[advanced_activations.PReLU.0] weights: alphas**"
   ]
  },
  {
   "cell_type": "code",
   "execution_count": 4,
   "metadata": {
    "collapsed": false
   },
   "outputs": [
    {
     "name": "stdout",
     "output_type": "stream",
     "text": [
      "in: [0, 0.2, -0.5, -0.1, 1, 2]\n",
      "in shape: (6,)\n",
      "out shape: (6,)\n",
      "out: [0.0, 0.2, -0.01, 0.003, 1.0, 2.0]\n"
     ]
    }
   ],
   "source": [
    "layer_0 = Input(shape=(6,))\n",
    "layer_1 = PReLU()(layer_0)\n",
    "model = Model(input=layer_0, output=layer_1)\n",
    "\n",
    "alphas = np.array([-0.03, -0.02, 0.02, -0.03, -0.03, -0.01])\n",
    "model.set_weights([alphas])\n",
    "\n",
    "data_in = [0, 0.2, -0.5, -0.1, 1, 2]\n",
    "data_in_shape = (6,)\n",
    "print('in:', data_in)\n",
    "print('in shape:', data_in_shape)\n",
    "arr_in = np.array(data_in, dtype='float32').reshape(data_in_shape)\n",
    "result = model.predict(np.array([arr_in]))\n",
    "arr_out = result[0]\n",
    "print('out shape:', arr_out.shape)\n",
    "data_out = format_decimal(arr_out.ravel().tolist())\n",
    "print('out:', data_out)"
   ]
  },
  {
   "cell_type": "markdown",
   "metadata": {},
   "source": [
    "### ELU"
   ]
  },
  {
   "cell_type": "markdown",
   "metadata": {},
   "source": [
    "**[advanced_activations.ELU.0] alpha=1.1**"
   ]
  },
  {
   "cell_type": "code",
   "execution_count": 5,
   "metadata": {
    "collapsed": false
   },
   "outputs": [
    {
     "name": "stdout",
     "output_type": "stream",
     "text": [
      "in: [0, 0.2, -0.5, -0.1, 1, 2]\n",
      "in shape: (6,)\n",
      "out shape: (6,)\n",
      "out: [0.0, 0.2, -0.432816, -0.104679, 1.0, 2.0]\n"
     ]
    }
   ],
   "source": [
    "layer_0 = Input(shape=(6,))\n",
    "layer_1 = ELU(alpha=1.1)(layer_0)\n",
    "model = Model(input=layer_0, output=layer_1)\n",
    "\n",
    "data_in = [0, 0.2, -0.5, -0.1, 1, 2]\n",
    "data_in_shape = (6,)\n",
    "print('in:', data_in)\n",
    "print('in shape:', data_in_shape)\n",
    "arr_in = np.array(data_in, dtype='float32').reshape(data_in_shape)\n",
    "result = model.predict(np.array([arr_in]))\n",
    "arr_out = result[0]\n",
    "print('out shape:', arr_out.shape)\n",
    "data_out = format_decimal(arr_out.ravel().tolist())\n",
    "print('out:', data_out)"
   ]
  },
  {
   "cell_type": "markdown",
   "metadata": {},
   "source": [
    "### ParametricSoftplus"
   ]
  },
  {
   "cell_type": "markdown",
   "metadata": {},
   "source": [
    "**[advanced_activations.ParametricSoftplus.0] weights: alphas, betas**"
   ]
  },
  {
   "cell_type": "code",
   "execution_count": 6,
   "metadata": {
    "collapsed": false
   },
   "outputs": [
    {
     "name": "stdout",
     "output_type": "stream",
     "text": [
      "in: [0, 0.2, -0.5, -0.1, 1, 2]\n",
      "in shape: (6,)\n",
      "out shape: (6,)\n",
      "out: [0.090109, -0.013664, 0.013763, -0.020054, -0.023944, -0.006931]\n"
     ]
    }
   ],
   "source": [
    "layer_0 = Input(shape=(6,))\n",
    "layer_1 = ParametricSoftplus()(layer_0)\n",
    "model = Model(input=layer_0, output=layer_1)\n",
    "\n",
    "alphas = np.array([0.13, -0.02, 0.02, -0.03, -0.03, -0.01])\n",
    "betas = np.array([-0.03, -0.1, 0.02, 0.5, 0.2, 0.0])\n",
    "model.set_weights([alphas, betas])\n",
    "\n",
    "data_in = [0, 0.2, -0.5, -0.1, 1, 2]\n",
    "data_in_shape = (6,)\n",
    "print('in:', data_in)\n",
    "print('in shape:', data_in_shape)\n",
    "arr_in = np.array(data_in, dtype='float32').reshape(data_in_shape)\n",
    "result = model.predict(np.array([arr_in]))\n",
    "arr_out = result[0]\n",
    "print('out shape:', arr_out.shape)\n",
    "data_out = format_decimal(arr_out.ravel().tolist())\n",
    "print('out:', data_out)"
   ]
  },
  {
   "cell_type": "markdown",
   "metadata": {},
   "source": [
    "### ThresholdedReLU"
   ]
  },
  {
   "cell_type": "markdown",
   "metadata": {},
   "source": [
    "**[advanced_activations.ThresholdedReLU.0] theta=0.9**"
   ]
  },
  {
   "cell_type": "code",
   "execution_count": 7,
   "metadata": {
    "collapsed": false
   },
   "outputs": [
    {
     "name": "stdout",
     "output_type": "stream",
     "text": [
      "in: [0, 0.2, 0.5, -0.1, 1, 2]\n",
      "in shape: (6,)\n",
      "out shape: (6,)\n",
      "out: [0.0, 0.0, 0.0, 0.0, 1.0, 2.0]\n"
     ]
    }
   ],
   "source": [
    "layer_0 = Input(shape=(6,))\n",
    "layer_1 = ThresholdedReLU(theta=0.9)(layer_0)\n",
    "model = Model(input=layer_0, output=layer_1)\n",
    "\n",
    "data_in = [0, 0.2, 0.5, -0.1, 1, 2]\n",
    "data_in_shape = (6,)\n",
    "print('in:', data_in)\n",
    "print('in shape:', data_in_shape)\n",
    "arr_in = np.array(data_in, dtype='float32').reshape(data_in_shape)\n",
    "result = model.predict(np.array([arr_in]))\n",
    "arr_out = result[0]\n",
    "print('out shape:', arr_out.shape)\n",
    "data_out = format_decimal(arr_out.ravel().tolist())\n",
    "print('out:', data_out)"
   ]
  },
  {
   "cell_type": "markdown",
   "metadata": {},
   "source": [
    "### SReLU"
   ]
  },
  {
   "cell_type": "markdown",
   "metadata": {},
   "source": [
    "**[advanced_activations.SReLU.0] weights: t_left, a_left, t_right, a_right**"
   ]
  },
  {
   "cell_type": "code",
   "execution_count": 8,
   "metadata": {
    "collapsed": false
   },
   "outputs": [
    {
     "name": "stdout",
     "output_type": "stream",
     "text": [
      "in: [0, 0.2, -0.5, -0.1, 1, 2]\n",
      "in shape: (6,)\n",
      "out shape: (6,)\n",
      "out: [0.1339, 0.2, 0.0096, -0.065, 0.835, 0.068]\n"
     ]
    }
   ],
   "source": [
    "xxx = SReLU()\n",
    "layer_0 = Input(shape=(6,))\n",
    "layer_1 = xxx(layer_0)\n",
    "model = Model(input=layer_0, output=layer_1)\n",
    "\n",
    "t_left, a_left, t_right, a_right = (np.array([0.13, -0.02, 0.02, -0.03, -0.03, -0.01]),\n",
    "                                    np.array([-0.03, -0.1, 0.02, 0.5, 0.2, 0.0]),\n",
    "                                    np.array([-0.9, 0.8, 0.0, -1.0, 0.7, 0.4]),\n",
    "                                    np.array([0.1, 0.2, 0.3, 0.0, 0.5, -0.2]))\n",
    "model.set_weights([t_left, a_left, t_right, a_right])\n",
    "\n",
    "data_in = [0, 0.2, -0.5, -0.1, 1, 2]\n",
    "data_in_shape = (6,)\n",
    "print('in:', data_in)\n",
    "print('in shape:', data_in_shape)\n",
    "arr_in = np.array(data_in, dtype='float32').reshape(data_in_shape)\n",
    "result = model.predict(np.array([arr_in]))\n",
    "arr_out = result[0]\n",
    "print('out shape:', arr_out.shape)\n",
    "data_out = format_decimal(arr_out.ravel().tolist())\n",
    "print('out:', data_out)"
   ]
  },
  {
   "cell_type": "code",
   "execution_count": null,
   "metadata": {
    "collapsed": true
   },
   "outputs": [],
   "source": []
  }
 ],
 "metadata": {
  "kernelspec": {
   "display_name": "Python 3",
   "language": "python",
   "name": "python3"
  },
  "language_info": {
   "codemirror_mode": {
    "name": "ipython",
    "version": 3
   },
   "file_extension": ".py",
   "mimetype": "text/x-python",
   "name": "python",
   "nbconvert_exporter": "python",
   "pygments_lexer": "ipython3",
   "version": "3.5.2"
  }
 },
 "nbformat": 4,
 "nbformat_minor": 0
}
