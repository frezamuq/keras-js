{
 "cells": [
  {
   "cell_type": "code",
   "execution_count": 1,
   "metadata": {
    "collapsed": false
   },
   "outputs": [
    {
     "name": "stderr",
     "output_type": "stream",
     "text": [
      "Using TensorFlow backend.\n"
     ]
    }
   ],
   "source": [
    "import numpy as np\n",
    "from keras.models import Model\n",
    "from keras.layers import Input\n",
    "from keras.layers.recurrent import GRU\n",
    "from keras import backend as K"
   ]
  },
  {
   "cell_type": "code",
   "execution_count": 2,
   "metadata": {
    "collapsed": true
   },
   "outputs": [],
   "source": [
    "def format_decimal(arr, places=6):\n",
    "    return [round(x * 10**places) / 10**places for x in arr]"
   ]
  },
  {
   "cell_type": "markdown",
   "metadata": {},
   "source": [
    "### GRU"
   ]
  },
  {
   "cell_type": "markdown",
   "metadata": {},
   "source": [
    "**[recurrent.GRU.0] output_dim=4, activation='tanh', inner_activation='hard_sigmoid'**\n",
    "\n",
    "Note dropout_W and dropout_U are only applied during training phase"
   ]
  },
  {
   "cell_type": "code",
   "execution_count": 3,
   "metadata": {
    "collapsed": false
   },
   "outputs": [
    {
     "name": "stdout",
     "output_type": "stream",
     "text": [
      "W_z shape: (6, 4)\n",
      "W_z: [0.697096, 0.937488, -0.449098, -0.484192, -0.296977, 0.766173, 0.375647, -0.31032, -0.893983, 0.551514, 0.512208, -0.022663, -0.777151, 0.762656, 0.955093, -0.7102, -0.343035, 0.429084, -0.176999, -0.504458, -0.978595, 0.01322, 0.785201, 0.872206]\n",
      "U_z shape: (4, 4)\n",
      "U_z: [0.293987, 0.510798, -0.867003, -0.537004, 0.153043, 0.868432, 0.303538, -0.833902, -0.421654, 0.022877, -0.490379, 0.830018, -0.568055, 0.362359, -0.964449, -0.883199]\n",
      "b_z shape: (4,)\n",
      "b_z: [0.300373, -0.397273, -0.197073, 0.545033]\n",
      "W_r shape: (6, 4)\n",
      "W_r: [-0.78977, -0.965489, 0.79924, -0.822685, -0.881619, -0.890515, 0.430543, -0.409164, 0.28628, -0.842382, 0.027783, 0.046666, -0.297688, -0.861797, -0.805359, -0.529682, -0.459402, -0.0512, 0.873062, 0.573077, -0.16656, -0.282967, -0.266834, -0.13012]\n",
      "U_r shape: (4, 4)\n",
      "U_r: [0.614711, -0.565478, -0.726449, -0.427646, -0.354379, 0.879997, -0.5826, -0.912585, 0.05192, -0.506392, -0.653024, -0.27348, 0.13355, 0.997601, 0.969658, -0.616832]\n",
      "b_r shape: (4,)\n",
      "b_r: [0.208368, -0.471724, 0.763483, -0.878561]\n",
      "W_h shape: (6, 4)\n",
      "W_h: [0.438653, 0.537919, 0.629443, 0.644632, 0.913507, 0.641987, -0.997337, -0.997811, 0.155101, 0.835647, -0.820757, -0.619843, 0.387268, 0.148462, 0.354765, -0.903723, -0.680824, 0.235964, -0.428376, -0.038641, -0.067333, 0.858736, -0.248745, 0.419417]\n",
      "U_h shape: (4, 4)\n",
      "U_h: [0.907489, -0.472195, 0.636902, 0.564197, -0.576348, 0.068969, -0.641013, 0.917038, 0.89859, 0.383282, 0.021141, 0.365643, -0.38738, -0.536419, -0.834624, -0.448045]\n",
      "b_h shape: (4,)\n",
      "b_h: [0.625642, 0.849408, 0.355153, -0.022177]\n",
      "\n",
      "in shape: (3, 6)\n",
      "in: [0.454755, -0.500036, 0.669807, -0.361953, -0.331696, 0.544275, -0.297936, -0.914816, -0.791624, 0.145431, -0.581861, -0.777213, -0.859864, -0.874638, 0.01969, 0.807778, -0.384698, 0.52754]\n",
      "out shape: (4,)\n",
      "out: [0.357829, 0.053935, 0.81058, 0.410815]\n"
     ]
    }
   ],
   "source": [
    "data_in_shape = (3, 6)\n",
    "rnn = GRU(4, activation='tanh', inner_activation='hard_sigmoid')\n",
    "\n",
    "layer_0 = Input(shape=data_in_shape)\n",
    "layer_1 = rnn(layer_0)\n",
    "model = Model(input=layer_0, output=layer_1)\n",
    "\n",
    "# set weights to random (use seed for reproducibility)\n",
    "weights = []\n",
    "for i, w in enumerate(model.get_weights()):\n",
    "    np.random.seed(3200 + i)\n",
    "    weights.append(2 * np.random.random(w.shape) - 1)\n",
    "model.set_weights(weights)\n",
    "weight_names = ['W_z', 'U_z', 'b_z', 'W_r', 'U_r', 'b_r', 'W_h', 'U_h', 'b_h']\n",
    "for w_i, w_name in enumerate(weight_names):\n",
    "    print('{} shape:'.format(w_name), weights[w_i].shape)\n",
    "    print('{}:'.format(w_name), format_decimal(weights[w_i].ravel().tolist()))\n",
    "\n",
    "data_in = 2 * np.random.random(data_in_shape) - 1\n",
    "print('')\n",
    "print('in shape:', data_in_shape)\n",
    "print('in:', format_decimal(data_in.ravel().tolist()))\n",
    "result = model.predict(np.array([data_in]))\n",
    "print('out shape:', result[0].shape)\n",
    "print('out:', format_decimal(result[0].ravel().tolist()))"
   ]
  },
  {
   "cell_type": "markdown",
   "metadata": {},
   "source": [
    "**[recurrent.GRU.1] output_dim=5, activation='sigmoid', inner_activation='sigmoid'**\n",
    "\n",
    "Note dropout_W and dropout_U are only applied during training phase"
   ]
  },
  {
   "cell_type": "code",
   "execution_count": 4,
   "metadata": {
    "collapsed": false
   },
   "outputs": [
    {
     "name": "stdout",
     "output_type": "stream",
     "text": [
      "W_z shape: (5, 5)\n",
      "W_z: [0.299086, -0.606833, -0.606176, -0.787071, 0.651687, 0.533268, -0.031304, 0.761436, -0.233954, 0.250473, 0.336694, -0.819566, 0.386506, -0.310632, 0.534265, 0.326778, 0.986252, 0.550256, -0.428584, 0.729528, 0.753243, 0.052566, 0.112301, 0.943392, 0.84211]\n",
      "U_z shape: (5, 5)\n",
      "U_z: [-0.304258, -0.082662, 0.360337, -0.033337, 0.634706, -0.178816, 0.315423, -0.180654, -0.614839, 0.521472, -0.330505, -0.505923, -0.631878, 0.258902, 0.241568, -0.688406, -0.172362, -0.391257, 0.522173, 0.797502, -0.575558, 0.151381, -0.547897, 0.516589, 0.708659]\n",
      "b_z shape: (5,)\n",
      "b_z: [0.811563, -0.388325, 0.885488, 0.230234, -0.244712]\n",
      "W_r shape: (5, 5)\n",
      "W_r: [-0.729242, 0.763578, 0.417955, 0.210897, -0.429239, 0.283263, -0.686475, -0.491051, 0.918495, 0.425283, 0.774116, -0.98857, -0.565339, 0.025527, -0.303788, -0.223961, 0.751953, 0.337218, -0.639605, 0.602074, -0.600083, -0.47275, -0.364455, -0.023874, -0.027224]\n",
      "U_r shape: (5, 5)\n",
      "U_r: [0.589436, -0.804301, 0.658136, -0.732326, 0.893912, -0.292358, 0.039115, 0.930071, -0.62919, -0.837603, -0.776494, 0.813465, -0.342215, 0.044366, -0.437526, -0.618403, -0.619615, 0.50109, -0.326013, -0.14783, -0.416448, 0.919633, -0.661798, -0.483661, -0.720813]\n",
      "b_r shape: (5,)\n",
      "b_r: [0.170337, 0.918918, 0.568871, -0.826482, 0.070504]\n",
      "W_h shape: (5, 5)\n",
      "W_h: [0.344252, 0.760874, -0.268717, 0.701237, 0.896014, 0.438417, 0.155913, 0.963523, -0.19745, -0.244753, 0.630489, 0.006817, 0.547038, 0.339896, 0.011572, 0.761678, -0.11379, -0.334242, -0.472874, -0.174971, 0.786332, 0.927158, 0.29118, -0.925352, -0.736471]\n",
      "U_h shape: (5, 5)\n",
      "U_h: [0.750902, 0.117373, 0.350442, 0.212617, 0.182857, -0.6857, 0.729193, 0.619535, -0.033271, 0.397076, -0.053293, 0.394278, -0.151946, 0.731021, 0.017597, -0.440847, -0.946609, -0.331976, -0.763824, 0.580819, -0.335928, -0.698401, -0.166743, 0.310863, 0.206836]\n",
      "b_h shape: (5,)\n",
      "b_h: [0.409751, 0.944756, -0.280481, -0.275697, -0.146348]\n",
      "\n",
      "in shape: (8, 5)\n",
      "in: [-0.094906, 0.605389, -0.259131, -0.144714, -0.871069, -0.505984, -0.099, 0.512625, -0.798481, 0.402367, 0.235246, -0.492811, -0.84798, -0.050762, -0.987794, 0.019448, -0.817187, -0.976662, -0.033607, 0.237009, -0.668647, 0.162216, 0.551184, -0.805519, -0.27069, -0.791801, 0.725023, -0.606338, -0.94179, -0.889808, 0.32455, 0.092378, -0.232344, -0.987515, -0.155486, -0.30281, -0.022303, 0.412259, -0.916014, 0.597312]\n",
      "out shape: (5,)\n",
      "out: [0.40583, 0.811977, 0.581642, 0.553639, 0.538492]\n"
     ]
    }
   ],
   "source": [
    "data_in_shape = (8, 5)\n",
    "rnn = GRU(5, activation='sigmoid', inner_activation='sigmoid')\n",
    "\n",
    "layer_0 = Input(shape=data_in_shape)\n",
    "layer_1 = rnn(layer_0)\n",
    "model = Model(input=layer_0, output=layer_1)\n",
    "\n",
    "# set weights to random (use seed for reproducibility)\n",
    "weights = []\n",
    "for i, w in enumerate(model.get_weights()):\n",
    "    np.random.seed(3300 + i)\n",
    "    weights.append(2 * np.random.random(w.shape) - 1)\n",
    "model.set_weights(weights)\n",
    "weight_names = ['W_z', 'U_z', 'b_z', 'W_r', 'U_r', 'b_r', 'W_h', 'U_h', 'b_h']\n",
    "for w_i, w_name in enumerate(weight_names):\n",
    "    print('{} shape:'.format(w_name), weights[w_i].shape)\n",
    "    print('{}:'.format(w_name), format_decimal(weights[w_i].ravel().tolist()))\n",
    "\n",
    "data_in = 2 * np.random.random(data_in_shape) - 1\n",
    "print('')\n",
    "print('in shape:', data_in_shape)\n",
    "print('in:', format_decimal(data_in.ravel().tolist()))\n",
    "result = model.predict(np.array([data_in]))\n",
    "print('out shape:', result[0].shape)\n",
    "print('out:', format_decimal(result[0].ravel().tolist()))"
   ]
  },
  {
   "cell_type": "code",
   "execution_count": null,
   "metadata": {
    "collapsed": true
   },
   "outputs": [],
   "source": []
  }
 ],
 "metadata": {
  "anaconda-cloud": {},
  "kernelspec": {
   "display_name": "Python [default]",
   "language": "python",
   "name": "python3"
  },
  "language_info": {
   "codemirror_mode": {
    "name": "ipython",
    "version": 3
   },
   "file_extension": ".py",
   "mimetype": "text/x-python",
   "name": "python",
   "nbconvert_exporter": "python",
   "pygments_lexer": "ipython3",
   "version": "3.5.2"
  }
 },
 "nbformat": 4,
 "nbformat_minor": 1
}
