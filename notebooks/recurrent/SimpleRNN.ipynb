{
 "cells": [
  {
   "cell_type": "code",
   "execution_count": 1,
   "metadata": {
    "collapsed": false
   },
   "outputs": [
    {
     "name": "stderr",
     "output_type": "stream",
     "text": [
      "Using TensorFlow backend.\n"
     ]
    }
   ],
   "source": [
    "import numpy as np\n",
    "from keras.models import Model\n",
    "from keras.layers import Input\n",
    "from keras.layers.recurrent import SimpleRNN\n",
    "from keras import backend as K"
   ]
  },
  {
   "cell_type": "code",
   "execution_count": 2,
   "metadata": {
    "collapsed": true
   },
   "outputs": [],
   "source": [
    "def format_decimal(arr, places=6):\n",
    "    return [round(x * 10**places) / 10**places for x in arr]"
   ]
  },
  {
   "cell_type": "markdown",
   "metadata": {},
   "source": [
    "### SimpleRNN"
   ]
  },
  {
   "cell_type": "markdown",
   "metadata": {},
   "source": [
    "**[recurrent.SimpleRNN.0] output_dim=4, activation='tanh'**\n",
    "\n",
    "Note dropout_W and dropout_U are only applied during training phase"
   ]
  },
  {
   "cell_type": "code",
   "execution_count": 3,
   "metadata": {
    "collapsed": false
   },
   "outputs": [
    {
     "name": "stdout",
     "output_type": "stream",
     "text": [
      "W shape: (6, 4)\n",
      "W: [-0.045589, 0.415186, -0.562532, 0.417194, 0.595636, 0.384863, -0.421095, 0.531931, 0.892653, -0.9421, -0.522872, -0.37874, -0.768283, -0.196357, -0.818039, -0.631257, -0.405011, -0.035917, -0.48787, 0.181399, 0.150278, -0.910744, 0.68533, 0.571771]\n",
      "U shape: (4, 4)\n",
      "U: [-0.720918, -0.952173, -0.727704, 0.156292, -0.355836, -0.862534, 0.167887, 0.9923, -0.726801, 0.346909, 0.339642, 0.91009, 0.52891, -0.857623, -0.906373, 0.492599]\n",
      "b shape: (4,)\n",
      "b: [-0.836587, 0.897901, -0.267459, -0.930645]\n",
      "\n",
      "in shape: (3, 6)\n",
      "in: [-0.409861, -0.508697, -0.23829, 0.215855, -0.570529, 0.272606, -0.304086, -0.907375, -0.030361, 0.792806, 0.0388, -0.782223, 0.098008, -0.99904, 0.356238, -0.490761, 0.905586, 0.839691]\n",
      "out shape: (4,)\n",
      "out: [-0.921578, 0.582325, 0.984568, 0.313785]\n"
     ]
    }
   ],
   "source": [
    "data_in_shape = (3, 6)\n",
    "rnn = SimpleRNN(4, activation='tanh')\n",
    "\n",
    "layer_0 = Input(shape=data_in_shape)\n",
    "layer_1 = rnn(layer_0)\n",
    "model = Model(input=layer_0, output=layer_1)\n",
    "\n",
    "# set weights to random (use seed for reproducibility)\n",
    "weights = []\n",
    "for i, w in enumerate(model.get_weights()):\n",
    "    np.random.seed(3400 + i)\n",
    "    weights.append(2 * np.random.random(w.shape) - 1)\n",
    "model.set_weights(weights)\n",
    "weight_names = ['W', 'U', 'b']\n",
    "for w_i, w_name in enumerate(weight_names):\n",
    "    print('{} shape:'.format(w_name), weights[w_i].shape)\n",
    "    print('{}:'.format(w_name), format_decimal(weights[w_i].ravel().tolist()))\n",
    "\n",
    "data_in = 2 * np.random.random(data_in_shape) - 1\n",
    "print('')\n",
    "print('in shape:', data_in_shape)\n",
    "print('in:', format_decimal(data_in.ravel().tolist()))\n",
    "result = model.predict(np.array([data_in]))\n",
    "print('out shape:', result[0].shape)\n",
    "print('out:', format_decimal(result[0].ravel().tolist()))"
   ]
  },
  {
   "cell_type": "markdown",
   "metadata": {},
   "source": [
    "**[recurrent.SimpleRNN.1] output_dim=5, activation='sigmoid'**\n",
    "\n",
    "Note dropout_W and dropout_U are only applied during training phase"
   ]
  },
  {
   "cell_type": "code",
   "execution_count": 4,
   "metadata": {
    "collapsed": false
   },
   "outputs": [
    {
     "name": "stdout",
     "output_type": "stream",
     "text": [
      "W shape: (5, 5)\n",
      "W: [0.219175, 0.170157, -0.559083, 0.254571, -0.07401, -0.665539, -0.673129, -0.205758, -0.480003, 0.337035, 0.051406, -0.81763, -0.428026, -0.092167, 0.685529, -0.5668, -0.457007, 0.928876, 0.658722, -0.336033, -0.424178, -0.833065, 0.861114, 0.468557, -0.098388]\n",
      "U shape: (5, 5)\n",
      "U: [-0.048881, 0.614161, 0.195963, 0.306777, 0.135452, -0.773353, 0.075287, 0.283726, -0.340782, -0.184696, 0.292298, 0.660226, -0.914862, -0.785209, 0.617659, 0.937712, -0.58992, 0.752688, -0.120278, -0.591822, 0.717781, 0.903103, 0.992716, -0.891614, -0.697178]\n",
      "b shape: (5,)\n",
      "b: [0.698618, 0.022064, 0.814655, 0.729225, -0.278111]\n",
      "\n",
      "in shape: (8, 5)\n",
      "in: [0.010183, -0.266283, -0.587731, 0.343666, -0.894301, 0.745644, 0.221028, -0.386505, 0.599566, 0.769919, 0.609677, -0.28979, 0.967391, 0.717751, -0.140432, -0.631171, 0.947662, -0.028251, 0.421945, 0.204412, -0.366352, -0.920305, -0.748026, -0.124691, -0.578315, -0.684603, -0.336723, -0.918999, -0.820263, -0.186095, 0.571209, 0.206034, 0.477405, -0.478543, 0.401324, -0.582631, 0.920882, 0.54878, -0.473092, -0.504899]\n",
      "out shape: (5,)\n",
      "out: [0.706439, 0.65058, 0.610492, 0.185008, 0.596629]\n"
     ]
    }
   ],
   "source": [
    "data_in_shape = (8, 5)\n",
    "rnn = SimpleRNN(5, activation='sigmoid')\n",
    "\n",
    "layer_0 = Input(shape=data_in_shape)\n",
    "layer_1 = rnn(layer_0)\n",
    "model = Model(input=layer_0, output=layer_1)\n",
    "\n",
    "# set weights to random (use seed for reproducibility)\n",
    "weights = []\n",
    "for i, w in enumerate(model.get_weights()):\n",
    "    np.random.seed(3500 + i)\n",
    "    weights.append(2 * np.random.random(w.shape) - 1)\n",
    "model.set_weights(weights)\n",
    "weight_names = ['W', 'U', 'b']\n",
    "for w_i, w_name in enumerate(weight_names):\n",
    "    print('{} shape:'.format(w_name), weights[w_i].shape)\n",
    "    print('{}:'.format(w_name), format_decimal(weights[w_i].ravel().tolist()))\n",
    "\n",
    "data_in = 2 * np.random.random(data_in_shape) - 1\n",
    "print('')\n",
    "print('in shape:', data_in_shape)\n",
    "print('in:', format_decimal(data_in.ravel().tolist()))\n",
    "result = model.predict(np.array([data_in]))\n",
    "print('out shape:', result[0].shape)\n",
    "print('out:', format_decimal(result[0].ravel().tolist()))"
   ]
  },
  {
   "cell_type": "code",
   "execution_count": null,
   "metadata": {
    "collapsed": true
   },
   "outputs": [],
   "source": []
  }
 ],
 "metadata": {
  "anaconda-cloud": {},
  "kernelspec": {
   "display_name": "Python [default]",
   "language": "python",
   "name": "python3"
  },
  "language_info": {
   "codemirror_mode": {
    "name": "ipython",
    "version": 3
   },
   "file_extension": ".py",
   "mimetype": "text/x-python",
   "name": "python",
   "nbconvert_exporter": "python",
   "pygments_lexer": "ipython3",
   "version": "3.5.2"
  }
 },
 "nbformat": 4,
 "nbformat_minor": 1
}
